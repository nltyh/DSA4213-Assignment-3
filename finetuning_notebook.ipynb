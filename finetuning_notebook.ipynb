{
 "cells": [
  {
   "cell_type": "code",
   "execution_count": 40,
   "id": "fa72ee88",
   "metadata": {},
   "outputs": [],
   "source": [
    "from transformers import AutoTokenizer, AutoModelForSequenceClassification, TrainingArguments, Trainer\n",
    "import adapters\n",
    "from adapters import AdapterConfig, AdapterTrainer, AdapterTrainer, AutoAdapterModel\n",
    "from datasets import load_dataset\n",
    "from peft import LoraConfig, get_peft_model, TaskType\n",
    "from util import compute_metrics"
   ]
  },
  {
   "cell_type": "markdown",
   "id": "9e108d25",
   "metadata": {},
   "source": [
    "### Dataset"
   ]
  },
  {
   "cell_type": "code",
   "execution_count": null,
   "id": "6f321538",
   "metadata": {},
   "outputs": [],
   "source": [
    "dataset = load_dataset('tweet_eval', 'sentiment') \n",
    "dataset = dataset.rename_column('label', 'labels') # renaming to fit the Trainer class"
   ]
  },
  {
   "cell_type": "code",
   "execution_count": 42,
   "id": "fab20f8f",
   "metadata": {},
   "outputs": [
    {
     "data": {
      "text/plain": [
       "45615"
      ]
     },
     "execution_count": 42,
     "metadata": {},
     "output_type": "execute_result"
    }
   ],
   "source": [
    "len(dataset['train'])"
   ]
  },
  {
   "cell_type": "code",
   "execution_count": 43,
   "id": "8950851d",
   "metadata": {},
   "outputs": [
    {
     "data": {
      "text/plain": [
       "2000"
      ]
     },
     "execution_count": 43,
     "metadata": {},
     "output_type": "execute_result"
    }
   ],
   "source": [
    "len(dataset['validation'])"
   ]
  },
  {
   "cell_type": "code",
   "execution_count": 44,
   "id": "1e9b5a9b",
   "metadata": {},
   "outputs": [
    {
     "data": {
      "text/plain": [
       "12284"
      ]
     },
     "execution_count": 44,
     "metadata": {},
     "output_type": "execute_result"
    }
   ],
   "source": [
    "len(dataset['test'])"
   ]
  },
  {
   "cell_type": "markdown",
   "id": "392c0afa",
   "metadata": {},
   "source": [
    "### Loading base model and encoding dataset"
   ]
  },
  {
   "cell_type": "code",
   "execution_count": 45,
   "id": "f528e567",
   "metadata": {},
   "outputs": [
    {
     "name": "stderr",
     "output_type": "stream",
     "text": [
      "Some weights of DistilBertForSequenceClassification were not initialized from the model checkpoint at distilbert-base-uncased and are newly initialized: ['classifier.bias', 'classifier.weight', 'pre_classifier.bias', 'pre_classifier.weight']\n",
      "You should probably TRAIN this model on a down-stream task to be able to use it for predictions and inference.\n"
     ]
    }
   ],
   "source": [
    "model_name = 'distilbert-base-uncased'\n",
    "tokenizer = AutoTokenizer.from_pretrained(model_name)\n",
    "\n",
    "def tokenize(example):\n",
    "    return tokenizer(example[\"text\"], truncation = True, padding = \"max_length\", max_length = 128)\n",
    "\n",
    "encoded = dataset.map(tokenize, batched = True)\n",
    "encoded.set_format('torch', columns = ['input_ids', 'attention_mask', 'labels'])\n",
    "\n",
    "base_model = AutoModelForSequenceClassification.from_pretrained(model_name, num_labels = 3)"
   ]
  },
  {
   "cell_type": "markdown",
   "id": "70f746bc",
   "metadata": {},
   "source": [
    "### Baseline Evaluation"
   ]
  },
  {
   "cell_type": "code",
   "execution_count": null,
   "id": "a087463f",
   "metadata": {},
   "outputs": [
    {
     "data": {
      "text/html": [
       "\n",
       "    <div>\n",
       "      \n",
       "      <progress value='1536' max='1536' style='width:300px; height:20px; vertical-align: middle;'></progress>\n",
       "      [1536/1536 01:26]\n",
       "    </div>\n",
       "    "
      ],
      "text/plain": [
       "<IPython.core.display.HTML object>"
      ]
     },
     "metadata": {},
     "output_type": "display_data"
    },
    {
     "name": "stdout",
     "output_type": "stream",
     "text": [
      "Baseline Results: {'eval_loss': 1.098198413848877, 'eval_model_preparation_time': 0.0007, 'eval_accuracy': 0.34296646043633994, 'eval_f1': 0.33957336110664277, 'eval_runtime': 87.1362, 'eval_samples_per_second': 140.975, 'eval_steps_per_second': 17.628}\n"
     ]
    }
   ],
   "source": [
    "# Trainer requires TrainingArguments \n",
    "# we can add in dummy TrainingArguments that has no tunable parameters\n",
    "base_args = TrainingArguments(\n",
    "    output_dir = \"./baseline_results\"\n",
    ")\n",
    "\n",
    "base_trainer = Trainer(\n",
    "    model = base_model,\n",
    "    args = base_args,\n",
    "    compute_metrics = compute_metrics\n",
    ")\n",
    "\n",
    "base_results = base_trainer.evaluate(encoded['test'])\n",
    "print(\"Baseline Results:\", base_results)"
   ]
  },
  {
   "cell_type": "markdown",
   "id": "03ba00af",
   "metadata": {},
   "source": [
    "### LoRA"
   ]
  },
  {
   "cell_type": "code",
   "execution_count": 47,
   "id": "046231ff",
   "metadata": {},
   "outputs": [
    {
     "name": "stderr",
     "output_type": "stream",
     "text": [
      "No label_names provided for model class `PeftModelForSequenceClassification`. Since `PeftModel` hides base models input arguments, if label_names is not given, label_names can't be set automatically within `Trainer`. Note that empty label_names list will be used instead.\n"
     ]
    },
    {
     "name": "stdout",
     "output_type": "stream",
     "text": [
      "trainable params: 740,355 || all params: 67,696,134 || trainable%: 1.0936\n"
     ]
    },
    {
     "name": "stderr",
     "output_type": "stream",
     "text": [
      "/Users/nltyh/Documents/NUS/Y4/DSA4213/Assignment 3/venv/lib/python3.10/site-packages/torch/utils/data/dataloader.py:684: UserWarning: 'pin_memory' argument is set as true but not supported on MPS now, then device pinned memory won't be used.\n",
      "  warnings.warn(warn_msg)\n"
     ]
    },
    {
     "data": {
      "text/html": [
       "\n",
       "    <div>\n",
       "      \n",
       "      <progress value='8553' max='8553' style='width:300px; height:20px; vertical-align: middle;'></progress>\n",
       "      [8553/8553 1:09:13, Epoch 3/3]\n",
       "    </div>\n",
       "    <table border=\"1\" class=\"dataframe\">\n",
       "  <thead>\n",
       " <tr style=\"text-align: left;\">\n",
       "      <th>Epoch</th>\n",
       "      <th>Training Loss</th>\n",
       "      <th>Validation Loss</th>\n",
       "      <th>Accuracy</th>\n",
       "      <th>F1</th>\n",
       "    </tr>\n",
       "  </thead>\n",
       "  <tbody>\n",
       "    <tr>\n",
       "      <td>1</td>\n",
       "      <td>0.677200</td>\n",
       "      <td>0.681058</td>\n",
       "      <td>0.694000</td>\n",
       "      <td>0.693926</td>\n",
       "    </tr>\n",
       "    <tr>\n",
       "      <td>2</td>\n",
       "      <td>0.659500</td>\n",
       "      <td>0.667636</td>\n",
       "      <td>0.708000</td>\n",
       "      <td>0.707185</td>\n",
       "    </tr>\n",
       "    <tr>\n",
       "      <td>3</td>\n",
       "      <td>0.649800</td>\n",
       "      <td>0.659583</td>\n",
       "      <td>0.707500</td>\n",
       "      <td>0.708693</td>\n",
       "    </tr>\n",
       "  </tbody>\n",
       "</table><p>"
      ],
      "text/plain": [
       "<IPython.core.display.HTML object>"
      ]
     },
     "metadata": {},
     "output_type": "display_data"
    },
    {
     "name": "stderr",
     "output_type": "stream",
     "text": [
      "/Users/nltyh/Documents/NUS/Y4/DSA4213/Assignment 3/venv/lib/python3.10/site-packages/torch/utils/data/dataloader.py:684: UserWarning: 'pin_memory' argument is set as true but not supported on MPS now, then device pinned memory won't be used.\n",
      "  warnings.warn(warn_msg)\n",
      "/Users/nltyh/Documents/NUS/Y4/DSA4213/Assignment 3/venv/lib/python3.10/site-packages/torch/utils/data/dataloader.py:684: UserWarning: 'pin_memory' argument is set as true but not supported on MPS now, then device pinned memory won't be used.\n",
      "  warnings.warn(warn_msg)\n",
      "/Users/nltyh/Documents/NUS/Y4/DSA4213/Assignment 3/venv/lib/python3.10/site-packages/torch/utils/data/dataloader.py:684: UserWarning: 'pin_memory' argument is set as true but not supported on MPS now, then device pinned memory won't be used.\n",
      "  warnings.warn(warn_msg)\n"
     ]
    },
    {
     "data": {
      "text/html": [
       "\n",
       "    <div>\n",
       "      \n",
       "      <progress value='768' max='768' style='width:300px; height:20px; vertical-align: middle;'></progress>\n",
       "      [768/768 02:40]\n",
       "    </div>\n",
       "    "
      ],
      "text/plain": [
       "<IPython.core.display.HTML object>"
      ]
     },
     "metadata": {},
     "output_type": "display_data"
    },
    {
     "name": "stdout",
     "output_type": "stream",
     "text": [
      "LoRA Results: {'eval_loss': 0.7258167862892151, 'eval_accuracy': 0.6768967762943666, 'eval_f1': 0.6758656112479667, 'eval_runtime': 161.0126, 'eval_samples_per_second': 76.292, 'eval_steps_per_second': 4.77, 'epoch': 3.0}\n"
     ]
    }
   ],
   "source": [
    "lora_config = LoraConfig(\n",
    "    r = 8,\n",
    "    lora_alpha = 16,\n",
    "    target_modules = [\"q_lin\", \"v_lin\"],\n",
    "    lora_dropout = 0.1,\n",
    "    bias = \"none\",\n",
    "    task_type = TaskType.SEQ_CLS,\n",
    ")\n",
    "\n",
    "lora_model = get_peft_model(base_model, lora_config)\n",
    "lora_model.print_trainable_parameters()\n",
    "\n",
    "lora_args = TrainingArguments(\n",
    "    output_dir = \"./lora_results\",\n",
    "    num_train_epochs = 3,\n",
    "    eval_strategy = \"epoch\",\n",
    "    save_strategy = \"epoch\",\n",
    "    per_device_train_batch_size = 16,\n",
    "    per_device_eval_batch_size = 16,\n",
    "    load_best_model_at_end = True,\n",
    "    metric_for_best_model = \"accuracy\"\n",
    ")\n",
    "\n",
    "lora_trainer = Trainer(\n",
    "    model = lora_model,\n",
    "    args = lora_args,\n",
    "    train_dataset = encoded[\"train\"],\n",
    "    eval_dataset = encoded[\"validation\"],\n",
    "    compute_metrics = compute_metrics\n",
    ")\n",
    "\n",
    "lora_trainer.train()\n",
    "\n",
    "lora_results = lora_trainer.evaluate(encoded[\"test\"])\n",
    "print(\"LoRA Results:\", lora_results)"
   ]
  },
  {
   "cell_type": "markdown",
   "id": "461e74ae",
   "metadata": {},
   "source": [
    "### Adapters"
   ]
  },
  {
   "cell_type": "code",
   "execution_count": null,
   "id": "934d6b2f",
   "metadata": {},
   "outputs": [
    {
     "name": "stderr",
     "output_type": "stream",
     "text": [
      "There are adapters available but none are activated for the forward pass.\n",
      "/Users/nltyh/Documents/NUS/Y4/DSA4213/Assignment 3/venv/lib/python3.10/site-packages/torch/utils/data/dataloader.py:684: UserWarning: 'pin_memory' argument is set as true but not supported on MPS now, then device pinned memory won't be used.\n",
      "  warnings.warn(warn_msg)\n"
     ]
    },
    {
     "data": {
      "text/html": [
       "\n",
       "    <div>\n",
       "      \n",
       "      <progress value='8553' max='8553' style='width:300px; height:20px; vertical-align: middle;'></progress>\n",
       "      [8553/8553 1:04:21, Epoch 3/3]\n",
       "    </div>\n",
       "    <table border=\"1\" class=\"dataframe\">\n",
       "  <thead>\n",
       " <tr style=\"text-align: left;\">\n",
       "      <th>Epoch</th>\n",
       "      <th>Training Loss</th>\n",
       "      <th>Validation Loss</th>\n",
       "      <th>Accuracy</th>\n",
       "      <th>F1</th>\n",
       "    </tr>\n",
       "  </thead>\n",
       "  <tbody>\n",
       "    <tr>\n",
       "      <td>1</td>\n",
       "      <td>0.668900</td>\n",
       "      <td>0.674761</td>\n",
       "      <td>0.702000</td>\n",
       "      <td>0.701090</td>\n",
       "    </tr>\n",
       "    <tr>\n",
       "      <td>2</td>\n",
       "      <td>0.653700</td>\n",
       "      <td>0.665356</td>\n",
       "      <td>0.712500</td>\n",
       "      <td>0.709456</td>\n",
       "    </tr>\n",
       "    <tr>\n",
       "      <td>3</td>\n",
       "      <td>0.643000</td>\n",
       "      <td>0.654384</td>\n",
       "      <td>0.712000</td>\n",
       "      <td>0.713033</td>\n",
       "    </tr>\n",
       "  </tbody>\n",
       "</table><p>"
      ],
      "text/plain": [
       "<IPython.core.display.HTML object>"
      ]
     },
     "metadata": {},
     "output_type": "display_data"
    },
    {
     "name": "stderr",
     "output_type": "stream",
     "text": [
      "/Users/nltyh/Documents/NUS/Y4/DSA4213/Assignment 3/venv/lib/python3.10/site-packages/torch/utils/data/dataloader.py:684: UserWarning: 'pin_memory' argument is set as true but not supported on MPS now, then device pinned memory won't be used.\n",
      "  warnings.warn(warn_msg)\n",
      "/Users/nltyh/Documents/NUS/Y4/DSA4213/Assignment 3/venv/lib/python3.10/site-packages/torch/utils/data/dataloader.py:684: UserWarning: 'pin_memory' argument is set as true but not supported on MPS now, then device pinned memory won't be used.\n",
      "  warnings.warn(warn_msg)\n",
      "Overwriting existing adapter 'sentiment_adapter'.\n",
      "Overwriting existing head 'sentiment_adapter'\n",
      "/Users/nltyh/Documents/NUS/Y4/DSA4213/Assignment 3/venv/lib/python3.10/site-packages/torch/utils/data/dataloader.py:684: UserWarning: 'pin_memory' argument is set as true but not supported on MPS now, then device pinned memory won't be used.\n",
      "  warnings.warn(warn_msg)\n"
     ]
    },
    {
     "data": {
      "text/html": [
       "\n",
       "    <div>\n",
       "      \n",
       "      <progress value='768' max='768' style='width:300px; height:20px; vertical-align: middle;'></progress>\n",
       "      [768/768 02:16]\n",
       "    </div>\n",
       "    "
      ],
      "text/plain": [
       "<IPython.core.display.HTML object>"
      ]
     },
     "metadata": {},
     "output_type": "display_data"
    },
    {
     "name": "stdout",
     "output_type": "stream",
     "text": [
      "Adapter Results: {'eval_loss': 0.7361659407615662, 'eval_accuracy': 0.6716867469879518, 'eval_f1': 0.6700249769262002, 'eval_runtime': 136.5346, 'eval_samples_per_second': 89.97, 'eval_steps_per_second': 5.625, 'epoch': 3.0}\n"
     ]
    }
   ],
   "source": [
    "adapter_config = AdapterConfig.load(\n",
    "    \"pfeiffer\",             \n",
    "    reduction_factor = 16,\n",
    "    non_linearity = \"relu\"\n",
    ")\n",
    "\n",
    "adapter_base_model = AutoAdapterModel.from_pretrained(model_name, num_labels = 3)\n",
    "\n",
    "adapter_name = \"sentiment_adapter\"\n",
    "adapter_base_model.add_adapter(adapter_name, config = adapter_config)\n",
    "adapter_base_model.train_adapter(adapter_name)\n",
    "adapter_base_model.set_active_adapters(adapter_name)\n",
    "\n",
    "adapter_training_args = TrainingArguments(\n",
    "    output_dir = \"./adapter_results\",\n",
    "    num_train_epochs = 3,\n",
    "    eval_strategy = \"epoch\",   \n",
    "    save_strategy = \"epoch\",\n",
    "    per_device_train_batch_size = 16,\n",
    "    per_device_eval_batch_size = 16,\n",
    "    load_best_model_at_end = True,\n",
    "    metric_for_best_model = \"accuracy\"\n",
    ")\n",
    "\n",
    "adapter_trainer = AdapterTrainer(\n",
    "    model = adapter_base_model,\n",
    "    args = adapter_training_args,\n",
    "    train_dataset = encoded[\"train\"],\n",
    "    eval_dataset = encoded[\"validation\"],\n",
    "    compute_metrics = compute_metrics,\n",
    ")\n",
    "\n",
    "adapter_trainer.train()\n",
    "\n",
    "adapter_result = adapter_trainer.evaluate(encoded[\"test\"])\n",
    "print(\"Adapter Results:\", adapter_result)"
   ]
  }
 ],
 "metadata": {
  "kernelspec": {
   "display_name": "venv",
   "language": "python",
   "name": "python3"
  },
  "language_info": {
   "codemirror_mode": {
    "name": "ipython",
    "version": 3
   },
   "file_extension": ".py",
   "mimetype": "text/x-python",
   "name": "python",
   "nbconvert_exporter": "python",
   "pygments_lexer": "ipython3",
   "version": "3.10.6"
  }
 },
 "nbformat": 4,
 "nbformat_minor": 5
}
